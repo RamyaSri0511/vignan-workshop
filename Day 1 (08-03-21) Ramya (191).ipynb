{
 "cells": [
  {
   "cell_type": "markdown",
   "metadata": {},
   "source": [
    "# DAY-1 PYTHON \n",
    "\n",
    "## Python Introduction\n",
    "\n",
    "### Software Installations\n",
    "\n",
    "#### Anaconda Software"
   ]
  },
  {
   "cell_type": "markdown",
   "metadata": {},
   "source": [
    "* TITLE OF THE PROJECT\n",
    "***JOB***\n",
    "** Designation  "
   ]
  },
  {
   "cell_type": "code",
   "execution_count": 2,
   "metadata": {},
   "outputs": [
    {
     "name": "stdout",
     "output_type": "stream",
     "text": [
      "haii\n",
      "hello\n",
      "how are you\n"
     ]
    }
   ],
   "source": [
    "# PYTHON PROGRAM ABOUT HELLO WORLD MESSAGE DISPLAY USING PRINT FUNCTION\n",
    "print(\"haii\")\n",
    "print(\"hello\")\n",
    "print(\"how are you\")"
   ]
  },
  {
   "cell_type": "markdown",
   "metadata": {},
   "source": [
    "## Python Comments\n",
    "\n",
    "### Python basics\n",
    "    print statements\n",
    "    python keywords\n",
    "    operator\n",
    "    condition statement\n",
    "    loop"
   ]
  },
  {
   "cell_type": "markdown",
   "metadata": {},
   "source": [
    "# Python Variables\n"
   ]
  },
  {
   "cell_type": "code",
   "execution_count": 6,
   "metadata": {},
   "outputs": [
    {
     "name": "stdout",
     "output_type": "stream",
     "text": [
      "18\n",
      "542\n",
      "245\n"
     ]
    }
   ],
   "source": [
    "a = 18\n",
    "ab = 542\n",
    "abc = 245\n",
    "print(a)\n",
    "print(ab)\n",
    "print(abc)"
   ]
  },
  {
   "cell_type": "markdown",
   "metadata": {},
   "source": [
    "#invalid variables\n",
    " # Naming\n",
    "#1a =500\n",
    "#1c = 1000\n",
    "c1 = 200\n",
    "c_ = 2525\n",
    "_c = 5555"
   ]
  },
  {
   "cell_type": "markdown",
   "metadata": {},
   "source": [
    "# HOW CREATE A STRINGS"
   ]
  },
  {
   "cell_type": "code",
   "execution_count": 20,
   "metadata": {},
   "outputs": [
    {
     "name": "stdout",
     "output_type": "stream",
     "text": [
      "<class 'str'>\n",
      "<class 'str'>\n",
      "<class 'int'>\n",
      "<class 'float'>\n"
     ]
    }
   ],
   "source": [
    "s1 = \"today is monday\"\n",
    "s12 = 'tomorrow is tuesday'\n",
    "s2 = 500\n",
    "s3 = 500.5\n",
    "print(type(s1))\n",
    "print(type(s12))\n",
    "print(type(s2))\n",
    "print(type(s3))"
   ]
  },
  {
   "cell_type": "code",
   "execution_count": null,
   "metadata": {},
   "outputs": [],
   "source": []
  }
 ],
 "metadata": {
  "kernelspec": {
   "display_name": "Python 3",
   "language": "python",
   "name": "python3"
  },
  "language_info": {
   "codemirror_mode": {
    "name": "ipython",
    "version": 3
   },
   "file_extension": ".py",
   "mimetype": "text/x-python",
   "name": "python",
   "nbconvert_exporter": "python",
   "pygments_lexer": "ipython3",
   "version": "3.7.6"
  }
 },
 "nbformat": 4,
 "nbformat_minor": 4
}
