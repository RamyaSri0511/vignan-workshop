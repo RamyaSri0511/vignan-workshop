{
 "cells": [
  {
   "cell_type": "code",
   "execution_count": 6,
   "metadata": {},
   "outputs": [
    {
     "name": "stdout",
     "output_type": "stream",
     "text": [
      "21\n",
      "21 is eligible\n"
     ]
    }
   ],
   "source": [
    "# age eligible\n",
    "age=int(input())\n",
    "if age>=18:\n",
    "    print(age,\"is eligible\")\n",
    "else:\n",
    "    print(age,\"is eliglible\")"
   ]
  },
  {
   "cell_type": "code",
   "execution_count": 13,
   "metadata": {},
   "outputs": [
    {
     "name": "stdout",
     "output_type": "stream",
     "text": [
      "144\n"
     ]
    }
   ],
   "source": [
    "l=12\n",
    "b=12\n",
    "print(l*b)"
   ]
  },
  {
   "cell_type": "code",
   "execution_count": 16,
   "metadata": {},
   "outputs": [
    {
     "name": "stdout",
     "output_type": "stream",
     "text": [
      "314.0\n"
     ]
    }
   ],
   "source": [
    "r=10\n",
    "pi=3.14\n",
    "print(pi*(r*r))\n",
    "\n"
   ]
  },
  {
   "cell_type": "code",
   "execution_count": 18,
   "metadata": {},
   "outputs": [
    {
     "name": "stdout",
     "output_type": "stream",
     "text": [
      "706.5\n"
     ]
    }
   ],
   "source": [
    "r=15\n",
    "pi=3.14\n",
    "print(pi*(r**2))\n"
   ]
  },
  {
   "cell_type": "code",
   "execution_count": 29,
   "metadata": {},
   "outputs": [
    {
     "ename": "IndentationError",
     "evalue": "expected an indented block (<ipython-input-29-5dddd2840c56>, line 3)",
     "output_type": "error",
     "traceback": [
      "\u001b[1;36m  File \u001b[1;32m\"<ipython-input-29-5dddd2840c56>\"\u001b[1;36m, line \u001b[1;32m3\u001b[0m\n\u001b[1;33m    print(\"even\")\u001b[0m\n\u001b[1;37m        ^\u001b[0m\n\u001b[1;31mIndentationError\u001b[0m\u001b[1;31m:\u001b[0m expected an indented block\n"
     ]
    }
   ],
   "source": [
    "for i in range(1,100):\n",
    "    if i%2==0:\n",
    "    print(\"even\")\n",
    "        \n",
    "    "
   ]
  },
  {
   "cell_type": "code",
   "execution_count": 1,
   "metadata": {},
   "outputs": [
    {
     "name": "stdout",
     "output_type": "stream",
     "text": [
      "enter a number2\n",
      "@ 2 @ 4 @ 6 @ 8 @ 10 @ 12 @ 14 @ 16 @ 18 @ 20 @ 22 @ 24 @ 26 @ 28 @ 30 @ 32 @ 34 @ 36 @ 38 @ 40 @ 42 @ 44 @ 46 @ 48 @ 50 @ 52 @ 54 @ 56 @ 58 @ 60 @ 62 @ 64 @ 66 @ 68 @ 70 @ 72 @ 74 @ 76 @ 78 @ 80 @ 82 @ 84 @ 86 @ 88 @ 90 @ 92 @ 94 @ 96 @ 98 @ 100 "
     ]
    }
   ],
   "source": [
    "n = int(input(\"enter a number\"))\n",
    "for i in range(1,101):\n",
    "    if i%n==0:\n",
    "        print(i,end=\" \")\n",
    "    else:\n",
    "        print(\"@\",end=\" \")"
   ]
  },
  {
   "cell_type": "code",
   "execution_count": 1,
   "metadata": {},
   "outputs": [
    {
     "name": "stdout",
     "output_type": "stream",
     "text": [
      "enter a number2\n",
      "2 4 6 8 10 12 14 16 18 20 22 24 26 28 30 32 34 36 38 40 42 44 46 48 50 52 54 56 58 60 62 64 66 68 70 72 74 76 78 80 82 84 86 88 90 92 94 96 98 100 "
     ]
    }
   ],
   "source": [
    "n = int(input(\"enter a number\"))\n",
    "for i in range(1,101):\n",
    "    if i%n==0:\n",
    "        print(i,end=\" \")"
   ]
  },
  {
   "cell_type": "code",
   "execution_count": 14,
   "metadata": {},
   "outputs": [
    {
     "name": "stdout",
     "output_type": "stream",
     "text": [
      "enter a number10\n",
      "1 2 5 10 "
     ]
    }
   ],
   "source": [
    "n=int(input(\"enter a number\"))\n",
    "for i in range(1,n+1):\n",
    "    if n%i==0:\n",
    "        print(i,end=\" \")"
   ]
  },
  {
   "cell_type": "code",
   "execution_count": 16,
   "metadata": {},
   "outputs": [
    {
     "name": "stdout",
     "output_type": "stream",
     "text": [
      "enter a year:2020\n",
      "leap year\n"
     ]
    }
   ],
   "source": [
    "# leap year\n",
    "year = int(input(\"enter a year:\"))\n",
    "if(year%4==0 or (year%400==0 and year%100!=0)):\n",
    "    print(\"leap year\")\n",
    "else:\n",
    "    print(\"not a leap year\")\n",
    "                 \n"
   ]
  },
  {
   "cell_type": "code",
   "execution_count": 17,
   "metadata": {},
   "outputs": [
    {
     "name": "stdout",
     "output_type": "stream",
     "text": [
      "enter a year:2089\n",
      "not a leap year\n"
     ]
    }
   ],
   "source": [
    "# leap year\n",
    "year = int(input(\"enter a year:\"))\n",
    "if(year%4==0 or (year%400==0 and year%100!=0)):\n",
    "    print(\"leap year\")\n",
    "else:\n",
    "    print(\"not a leap year\")\n",
    "                 "
   ]
  },
  {
   "cell_type": "code",
   "execution_count": 28,
   "metadata": {},
   "outputs": [
    {
     "name": "stdout",
     "output_type": "stream",
     "text": [
      "enter ur furst number:12\n",
      "enter ur second number:10\n",
      "operations:\n",
      "                    1.addition\n",
      "                    2.substraction\n",
      "                    3.multiplication\n",
      "                    4.division\n",
      "                    5.modulus\n",
      "        \n",
      "enter ur choice: 1\n",
      "22\n"
     ]
    }
   ],
   "source": [
    "# calculator app\n",
    "a = int(input(\"enter ur first number:\"))\n",
    "b = int(input(\"enter ur second number:\"))\n",
    "print('''operations:\n",
    "                    1.addition\n",
    "                    2.substraction\n",
    "                    3.multiplication\n",
    "                    4.division\n",
    "                    5.modulus\n",
    "        ''')\n",
    "choice=int(input(\"enter ur choice: \"))\n",
    "if choice==1:\n",
    "    print(a+b)\n",
    "elif choice==2:\n",
    "    print(a-b)\n",
    "elif choice==3:\n",
    "    print(a*b)\n",
    "elif choice==4:\n",
    "    print(a/b)\n",
    "else:\n",
    "    print(a%b)"
   ]
  },
  {
   "cell_type": "code",
   "execution_count": 36,
   "metadata": {},
   "outputs": [
    {
     "name": "stdout",
     "output_type": "stream",
     "text": [
      "enter ur first number:10\n",
      "enter ur second number:12\n",
      "enter ur operator: 1\n",
      "10\n"
     ]
    }
   ],
   "source": [
    "# calculator app\n",
    "a = int(input(\"enter ur first number:\"))\n",
    "b = int(input(\"enter ur second number:\"))\n",
    "choice=input(\"enter ur operator: \")\n",
    "if choice=='+':\n",
    "    print(a+b)\n",
    "elif choice=='-':\n",
    "    print(a-b)\n",
    "elif choice=='*':\n",
    "    print(a*b)\n",
    "elif choice=='/':\n",
    "    print(a/b)\n",
    "else:\n",
    "    print(a%b)"
   ]
  },
  {
   "cell_type": "code",
   "execution_count": null,
   "metadata": {},
   "outputs": [],
   "source": []
  },
  {
   "cell_type": "code",
   "execution_count": null,
   "metadata": {},
   "outputs": [],
   "source": []
  }
 ],
 "metadata": {
  "kernelspec": {
   "display_name": "Python 3",
   "language": "python",
   "name": "python3"
  },
  "language_info": {
   "codemirror_mode": {
    "name": "ipython",
    "version": 3
   },
   "file_extension": ".py",
   "mimetype": "text/x-python",
   "name": "python",
   "nbconvert_exporter": "python",
   "pygments_lexer": "ipython3",
   "version": "3.7.6"
  }
 },
 "nbformat": 4,
 "nbformat_minor": 4
}
